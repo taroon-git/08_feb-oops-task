{
 "cells": [
  {
   "cell_type": "markdown",
   "id": "a7c05e28-5e06-4e9c-bcc0-761118148841",
   "metadata": {},
   "source": [
    "Q:1 What is Abstraction in OOPs ? Explain with an Example\n"
   ]
  },
  {
   "cell_type": "code",
   "execution_count": 3,
   "id": "81f86363-1ae8-418a-be6e-fc1684ba4271",
   "metadata": {},
   "outputs": [],
   "source": [
    "# \"The Hiding of the real implementation of the method by only showing a method signature\"\n",
    "\n",
    "# In simple words:- \n",
    " \n",
    "    # Abstraction is that feature in oops concept where in the user is kept unware of the basic implementation of a functiion\n",
    "    # property. The user is only able to view basic functionalities where as the internal details are Hidden."
   ]
  },
  {
   "cell_type": "code",
   "execution_count": 3,
   "id": "00b9e74a-f960-4c5b-a985-a1c90bfd30b8",
   "metadata": {},
   "outputs": [
    {
     "name": "stdout",
     "output_type": "stream",
     "text": [
      "I can bark\n",
      "I can Hiss\n"
     ]
    }
   ],
   "source": [
    "class Animal:\n",
    "    def move(self):\n",
    "        pass\n",
    "    \n",
    "class dog(Animal):\n",
    "    def move(self):\n",
    "        print(\"I can bark\")\n",
    "        \n",
    "class snake(Animal):\n",
    "    def move(self):\n",
    "        print(\"I can Hiss\")\n",
    "        \n",
    "d = dog()\n",
    "s = snake()\n",
    "\n",
    "d.move()\n",
    "s.move()"
   ]
  },
  {
   "cell_type": "markdown",
   "id": "429c6acf-8e00-4061-847e-af5471cbe445",
   "metadata": {},
   "source": [
    "Q2:- Abstraction vs Encapsulation"
   ]
  },
  {
   "cell_type": "code",
   "execution_count": 14,
   "id": "56e2359f-0a3c-47cf-b80a-9e6a37e87ab2",
   "metadata": {},
   "outputs": [
    {
     "data": {
      "text/plain": [
       "3000"
      ]
     },
     "execution_count": 14,
     "metadata": {},
     "output_type": "execute_result"
    }
   ],
   "source": [
    "# ENCAPSULATION :- \n",
    "\n",
    "# Encapsulation hides variables or some implementation that may be changed so often in a class\n",
    "# to prevent outsiders access it directly. They must access it via getter and setter methods.\n",
    "\n",
    "# EXAMPLE :-\n",
    "class bank_account:\n",
    "    def __init__(self,balance):\n",
    "        self.__balance = balance\n",
    "        \n",
    "    def deposit(self,amount):\n",
    "        self.__balance = self.__balance + amount\n",
    "        \n",
    "    def withdraw(self,amount):\n",
    "        if self.__balance >=amount:\n",
    "            self.__balance = self.__balance - amount\n",
    "            return True\n",
    "        else:\n",
    "            return False\n",
    "    def get_balance(self):\n",
    "        return self.__balance\n",
    "    \n",
    "my_acc = bank_account(2000)\n",
    "# my_acc.get_balance()\n",
    "my_acc.deposit(1000)\n",
    "my_acc.get_balance()\n",
    "\n"
   ]
  },
  {
   "cell_type": "code",
   "execution_count": 26,
   "id": "7a7e661f-c188-4cf5-99cb-ad07e5995298",
   "metadata": {},
   "outputs": [],
   "source": []
  },
  {
   "cell_type": "code",
   "execution_count": 4,
   "id": "a610ce90-d393-4044-bcba-7e5a18d3e825",
   "metadata": {},
   "outputs": [
    {
     "name": "stdout",
     "output_type": "stream",
     "text": [
      "I can bark\n",
      "I can Hiss\n"
     ]
    }
   ],
   "source": [
    "#ABSTRACTION :- \n",
    "\n",
    "# Abstraction is used to hide something too, but in a higher degree (class, interface).\n",
    "# Clients who use an abstract class (or interface) do not care about what it was,\n",
    "# they just need to know what it can do.\n",
    "\n",
    "class Animal:\n",
    "    def move(self):\n",
    "        pass\n",
    "    \n",
    "class dog(Animal):\n",
    "    def move(self):\n",
    "        print(\"I can bark\")\n",
    "        \n",
    "class snack(Animal):\n",
    "    def move(self):\n",
    "        print(\"I can Hiss\")\n",
    "        \n",
    "d = dog()\n",
    "s = snack()\n",
    "\n",
    "d.move()\n",
    "s.move()"
   ]
  },
  {
   "cell_type": "code",
   "execution_count": null,
   "id": "784ebd66-b893-47c8-879e-218c6838c554",
   "metadata": {},
   "outputs": [],
   "source": []
  },
  {
   "cell_type": "markdown",
   "id": "f07104b4-17e8-4419-8718-a7e948f7149f",
   "metadata": {},
   "source": [
    "Q3:- What is abc module in python ? why is it used"
   ]
  },
  {
   "cell_type": "code",
   "execution_count": 6,
   "id": "08474ff3-a1cc-42fc-a29a-78c35529c90f",
   "metadata": {},
   "outputs": [
    {
     "name": "stdout",
     "output_type": "stream",
     "text": [
      "42\n"
     ]
    }
   ],
   "source": [
    "# The 'abc' module in Python library provides the infrastructure for defining custom abstract base classes.\n",
    "\n",
    " # 'abc' works by marking methods of the base class as abstract. \n",
    " # This is done by @absttractmethod decorator.\n",
    "\n",
    "\n",
    "from abc import ABC, abstractmethod\n",
    "\n",
    "class shape(ABC):\n",
    "    @abstractmethod\n",
    "    def printarea(self):\n",
    "        return 0\n",
    "    \n",
    "class rectangle(shape):\n",
    "    type = \"Rectangle\"\n",
    "    sides = 4\n",
    "    def __init__(self):\n",
    "        self.length = 6\n",
    "        self.breadth = 7\n",
    "        \n",
    "    def printarea(self):\n",
    "        return self.length * self.breadth\n",
    "    \n",
    "rect1 = rectangle()\n",
    "print(rect1.printarea())"
   ]
  },
  {
   "cell_type": "markdown",
   "id": "0b3b0e68-c27c-4653-8b22-f6c00129f5a0",
   "metadata": {},
   "source": [
    "Q4:- How can we achieve Data abstraction ?"
   ]
  },
  {
   "cell_type": "code",
   "execution_count": 8,
   "id": "0c4d5fd0-99d2-4f05-9d14-7fc5fe33747e",
   "metadata": {},
   "outputs": [],
   "source": [
    "\n",
    "# The process of hiding the real implementation of an application from the user and emphasizing only on usage of it.\n"
   ]
  },
  {
   "cell_type": "markdown",
   "id": "9216436e-6073-4a37-9c08-1975586097a1",
   "metadata": {},
   "source": [
    "Q5:- Can we create an instance of an abstract class? Explain your answer"
   ]
  },
  {
   "cell_type": "code",
   "execution_count": null,
   "id": "1c9ee0ac-6440-4da7-96f3-d417d58c6b27",
   "metadata": {},
   "outputs": [],
   "source": [
    "# We can't create directly , but with the help of abc module we can create."
   ]
  }
 ],
 "metadata": {
  "kernelspec": {
   "display_name": "Python 3 (ipykernel)",
   "language": "python",
   "name": "python3"
  },
  "language_info": {
   "codemirror_mode": {
    "name": "ipython",
    "version": 3
   },
   "file_extension": ".py",
   "mimetype": "text/x-python",
   "name": "python",
   "nbconvert_exporter": "python",
   "pygments_lexer": "ipython3",
   "version": "3.10.8"
  }
 },
 "nbformat": 4,
 "nbformat_minor": 5
}
